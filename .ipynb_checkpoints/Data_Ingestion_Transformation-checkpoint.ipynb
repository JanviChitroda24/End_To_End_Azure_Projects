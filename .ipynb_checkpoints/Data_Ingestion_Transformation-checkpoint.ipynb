{
 "cells": [
  {
   "cell_type": "markdown",
   "id": "eacdd94b-02b1-4c7b-8081-66ec869d2e94",
   "metadata": {},
   "source": [
    "# Architecture Diagram\n",
    "\n",
    "\n",
    "<img src=\"Images/Data_Architecture.png\" alt=\"Data Architecture\" style=\"width:1000px;\"/>\n",
    "\n",
    "\n"
   ]
  },
  {
   "cell_type": "markdown",
   "id": "1ce8a5e5-5df5-4df4-9cc0-48b426472003",
   "metadata": {},
   "source": [
    "\n",
    "## Part 1: Environment Setup\n",
    "\n",
    "### Azure Portal Setup\n",
    "1. **Log in to Azure Portal**: [Azure Portal](https://portal.azure.com/#home)\n",
    "2. **Resource Group Creation**:\n",
    "   - Create a resource group named  to organize your Azure resources.\n",
    "<img src=\"Images/Env_SetUP.png\" alt=\"Environment Setup\" style=\"width:1000px;\"/>\n",
    "   \n",
    "\n",
    "### Create Resources\n",
    "| Resource Name                | Description                           |\n",
    "|------------------------------|---------------------------------------|\n",
    "| `jc-data-eng-project-01`     | General project identifier            |\n",
    "| `jc-adf-data-eng-proj-01`    | Azure Data Factory for data ingestion |\n",
    "| `jc-dbw-data-eng-proj-01`    | Azure Databricks workspace            |\n",
    "| `jc-akv-data-eng-proj-01`    | Azure Key Vault for secret management |\n",
    "| `datalakegen2proj01`         | Azure Data Lake Gen2 storage          |\n",
    "| `jc-synw-data-eng-proj-01`   | Azure Synapse Analytics workspace     |\n",
    "\n"
   ]
  },
  {
   "cell_type": "markdown",
   "id": "553bc5f4-dfb6-467d-adaf-ddcec28182fa",
   "metadata": {},
   "source": [
    "## Part 2: SQL Server Setup and Azure Key Vault Variables\n",
    "\n",
    "### SQL Server Setup\n",
    "1. Restore the `AdventureWorksLT2017` database.\n",
    "2. Create a login and user for the database:\n",
    "   ```sql\n",
    "   CREATE LOGIN dataengsu24 WITH PASSWORD = 'Any Value';\n",
    "   CREATE USER dataengsu24 FOR LOGIN dataengsu24\n",
    "    ```\n",
    "\n",
    "### Azure Key Vault Setup\n",
    "\n",
    "1. Navigate to **Azure Key Vault** in the Azure portal.\n",
    "2. Add role assignments:\n",
    "   - **Role**: Key Vault Administrator\n",
    "   - **Member**: Select your account.\n",
    "3. Store sensitive information like **SQL Server credentials** and **Storage account keys** securely in the Key Vault.\n",
    "   \n",
    "<div style=\"text-align: center;\">\n",
    "    <img src=\"Images/Key_Vault.png\" alt=\"Azure Key Vault\" style=\"width:750px;\"/>\n",
    "</div>\n"
   ]
  },
  {
   "cell_type": "code",
   "execution_count": null,
   "id": "eec6ada4-72e6-48fb-8a9a-cb51de92568b",
   "metadata": {},
   "outputs": [],
   "source": []
  }
 ],
 "metadata": {
  "kernelspec": {
   "display_name": "Python 3 (ipykernel)",
   "language": "python",
   "name": "python3"
  },
  "language_info": {
   "codemirror_mode": {
    "name": "ipython",
    "version": 3
   },
   "file_extension": ".py",
   "mimetype": "text/x-python",
   "name": "python",
   "nbconvert_exporter": "python",
   "pygments_lexer": "ipython3",
   "version": "3.12.4"
  }
 },
 "nbformat": 4,
 "nbformat_minor": 5
}
